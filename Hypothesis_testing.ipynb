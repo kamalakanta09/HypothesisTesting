{
  "nbformat": 4,
  "nbformat_minor": 0,
  "metadata": {
    "colab": {
      "provenance": [],
      "toc_visible": true
    },
    "kernelspec": {
      "name": "python3",
      "display_name": "Python 3"
    },
    "language_info": {
      "name": "python"
    }
  },
  "cells": [
    {
      "cell_type": "code",
      "execution_count": 1,
      "metadata": {
        "id": "-KHZNUOTdPhj"
      },
      "outputs": [],
      "source": [
        "import pandas as pd\n",
        "import numpy as np\n",
        "import seaborn as sns\n",
        "import matplotlib.pyplot as plt\n",
        "import math\n",
        "from scipy.stats import norm"
      ]
    },
    {
      "cell_type": "code",
      "source": [
        "# Data Provided\n",
        "sampleMean = 3050  # Sample mean weekly cost as our requirement\n",
        "theoreticalMean = 1000 + 5 * 600  # To Get theoretical mean weekly cost\n",
        "stdDev = 5 * 25  # This is the standard deviation of weekly costs\n",
        "sampleSize = 25  # As our requirment sample size\n",
        "alpha = 0.05  # This is the significance level of the requirement\n"
      ],
      "metadata": {
        "id": "C1YPGQNEYyo1"
      },
      "execution_count": 2,
      "outputs": []
    },
    {
      "cell_type": "code",
      "source": [
        "# 1: Calculate the test statistic value\n",
        "standardError = stdDev / math.sqrt(sampleSize)\n",
        "testValue = (sampleMean - theoreticalMean) / standardError"
      ],
      "metadata": {
        "id": "IsWpgZDXaTr-"
      },
      "execution_count": 3,
      "outputs": []
    },
    {
      "cell_type": "code",
      "source": [
        "# 2: Preparing the critical value\n",
        "criticalValue = norm.ppf(1 - alpha)"
      ],
      "metadata": {
        "id": "iQiedb_ja_4i"
      },
      "execution_count": 4,
      "outputs": []
    },
    {
      "cell_type": "markdown",
      "source": [],
      "metadata": {
        "id": "t5kEjbjPuFDE"
      }
    },
    {
      "cell_type": "code",
      "source": [
        "# 3: Comparing the test statistic with the critical value\n",
        "if testValue > criticalValue:\n",
        "    HypothesisDecision = \"Null hypothesis(H0) is rejected\"\n",
        "else:\n",
        "    HypothesisDecision = \"Alternative Hypothesis (H1) is rejected\""
      ],
      "metadata": {
        "id": "3xdbVxHodHam"
      },
      "execution_count": 5,
      "outputs": []
    },
    {
      "cell_type": "code",
      "source": [
        "# Show the results\n",
        "print(f\"Theoretical Weekly Cost (μ): {theoreticalMean}\")\n",
        "print(f\"Sample Mean Weekly Cost (ˉx): {sampleMean}\")\n",
        "print(f\"Standard Error: {standardError:.2f}\")\n",
        "print(f\"Test Value (t): {testValue:.2f}\")\n",
        "print(f\"Critical Value (Zα): {criticalValue:.2f}\")\n",
        "print(f\"Hypothesis Decision: {HypothesisDecision}\")"
      ],
      "metadata": {
        "colab": {
          "base_uri": "https://localhost:8080/"
        },
        "id": "Da9qr1PUeOF0",
        "outputId": "a737f116-64db-455b-81be-5c3c311fd68c"
      },
      "execution_count": 6,
      "outputs": [
        {
          "output_type": "stream",
          "name": "stdout",
          "text": [
            "Theoretical Weekly Cost (μ): 4000\n",
            "Sample Mean Weekly Cost (ˉx): 3050\n",
            "Standard Error: 25.00\n",
            "Test Value (t): -38.00\n",
            "Critical Value (Zα): 1.64\n",
            "Hypothesis Decision: Alternative Hypothesis (H1) is rejected\n"
          ]
        }
      ]
    }
  ]
}