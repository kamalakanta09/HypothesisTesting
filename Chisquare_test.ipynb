{
  "nbformat": 4,
  "nbformat_minor": 0,
  "metadata": {
    "colab": {
      "provenance": []
    },
    "kernelspec": {
      "name": "python3",
      "display_name": "Python 3"
    },
    "language_info": {
      "name": "python"
    }
  },
  "cells": [
    {
      "cell_type": "code",
      "execution_count": 7,
      "metadata": {
        "id": "yWT6bR0Dmysl"
      },
      "outputs": [],
      "source": [
        "import numpy as np\n",
        "import scipy.stats as stats"
      ]
    },
    {
      "cell_type": "code",
      "source": [
        "# Observed data from the contingency table\n",
        "observedData = np.array([\n",
        "    [50, 70],  # Very Satisfied\n",
        "    [80, 100], # Satisfied\n",
        "    [60, 90],  # Neutral\n",
        "    [30, 50],  # Unsatisfied\n",
        "    [20, 50]   # Very Unsatisfied\n",
        "])\n"
      ],
      "metadata": {
        "id": "B2Zxhm-BnFZ1"
      },
      "execution_count": 9,
      "outputs": []
    },
    {
      "cell_type": "code",
      "source": [
        "# 1: State Hypotheses\n"
      ],
      "metadata": {
        "id": "vJ6UNUyGn0s1"
      },
      "execution_count": 4,
      "outputs": []
    },
    {
      "cell_type": "code",
      "source": [
        "# 2: Compute the Chi-Square Statistic\n",
        "rowTotals = observedData.sum(axis=1)\n",
        "colTotals = observedData.sum(axis=0)\n",
        "grandTotal = observedData.sum()\n",
        "\n",
        "# Calculate expected frequencies\n",
        "expected = np.outer(rowTotals, colTotals) / grandTotal\n",
        "\n",
        "# Calculate Chi-Square statistic\n",
        "chiSquareStat = ((observedData - expected) ** 2 / expected).sum()"
      ],
      "metadata": {
        "id": "ThEY-VSvn8hl"
      },
      "execution_count": 10,
      "outputs": []
    },
    {
      "cell_type": "code",
      "source": [
        "# 3: Degrees of Freedom and Critical Value calculation\n",
        "df = (observedData.shape[0] - 1) * (observedData.shape[1] - 1)\n",
        "criticalValue = stats.chi2.ppf(0.95, df)"
      ],
      "metadata": {
        "id": "QAy8mz1IoX0x"
      },
      "execution_count": 13,
      "outputs": []
    },
    {
      "cell_type": "code",
      "source": [
        "# 4: Make a Decision for the requirement\n",
        "if chiSquareStat > criticalValue:\n",
        "    takeDecision = \"Reject the null hypothesis: There is a significant association.\"\n",
        "else:\n",
        "    takeDecision = \"Fail to reject the null hypothesis: No significant association.\""
      ],
      "metadata": {
        "id": "SMPyVTHarNdU"
      },
      "execution_count": 17,
      "outputs": []
    },
    {
      "cell_type": "code",
      "source": [
        "# Output results\n",
        "print(\"Chi-Square Statistic:\", chiSquareStat)\n",
        "print(\"Degrees of Freedom:\", df)\n",
        "print(\"Critical Value:\", criticalValue)\n",
        "print(\"Decision Take:\", takeDecision)"
      ],
      "metadata": {
        "colab": {
          "base_uri": "https://localhost:8080/"
        },
        "id": "0uFFReCfr_Kf",
        "outputId": "cb0e54d4-f32b-4309-ccee-6021ffb9144e"
      },
      "execution_count": 18,
      "outputs": [
        {
          "output_type": "stream",
          "name": "stdout",
          "text": [
            "Chi-Square Statistic: 5.638227513227513\n",
            "Degrees of Freedom: 4\n",
            "Critical Value: 9.487729036781154\n",
            "Decision Take: Fail to reject the null hypothesis: No significant association.\n"
          ]
        }
      ]
    },
    {
      "cell_type": "code",
      "source": [],
      "metadata": {
        "id": "RRbczTIMsxYw"
      },
      "execution_count": null,
      "outputs": []
    }
  ]
}